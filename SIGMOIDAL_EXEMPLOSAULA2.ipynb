{
  "nbformat": 4,
  "nbformat_minor": 0,
  "metadata": {
    "colab": {
      "name": "SIGMOIDAL_EXEMPLOSAULA2.ipynb",
      "provenance": [],
      "authorship_tag": "ABX9TyPJw5gv+Wu2/nPb52cfef4A",
      "include_colab_link": true
    },
    "kernelspec": {
      "name": "python3",
      "display_name": "Python 3"
    },
    "language_info": {
      "name": "python"
    }
  },
  "cells": [
    {
      "cell_type": "markdown",
      "metadata": {
        "id": "view-in-github",
        "colab_type": "text"
      },
      "source": [
        "<a href=\"https://colab.research.google.com/github/valmirAdin/python-random-quote/blob/master/SIGMOIDAL_EXEMPLOSAULA2.ipynb\" target=\"_parent\"><img src=\"https://colab.research.google.com/assets/colab-badge.svg\" alt=\"Open In Colab\"/></a>"
      ]
    },
    {
      "cell_type": "code",
      "metadata": {
        "id": "UkKfDY_tGHGs"
      },
      "source": [
        "import pandas as pd"
      ],
      "execution_count": null,
      "outputs": []
    },
    {
      "cell_type": "code",
      "metadata": {
        "id": "13CmPZyyGTAb"
      },
      "source": [
        "planilha = pd.read_excel(\"/content/controle_de_abacates.xlsx\")"
      ],
      "execution_count": null,
      "outputs": []
    },
    {
      "cell_type": "code",
      "metadata": {
        "colab": {
          "base_uri": "https://localhost:8080/"
        },
        "id": "TaStgSiDGtHY",
        "outputId": "91fad00e-1aa0-4a59-8599-a0197cb4e185"
      },
      "source": [
        "print(planilha)"
      ],
      "execution_count": null,
      "outputs": [
        {
          "output_type": "stream",
          "text": [
            "    id       data  preco_medio  volume_total     tipo   ano\n",
            "0    0 2017-12-31         1.83      69777.30  organic  2017\n",
            "1    1 2017-12-24         1.85      74779.73  organic  2017\n",
            "2    2 2017-12-17         1.84      75462.11  organic  2017\n",
            "3    3 2017-12-10         1.79      79929.45  organic  2017\n",
            "4    4 2017-12-03         1.81      95299.69  organic  2017\n",
            "..  ..        ...          ...           ...      ...   ...\n",
            "60   7 2018-02-04         1.83      93204.08  organic  2018\n",
            "61   8 2018-01-28         1.75      96380.28  organic  2018\n",
            "62   9 2018-01-21         1.91      71760.69  organic  2018\n",
            "63  10 2018-01-14         1.91      86632.25  organic  2018\n",
            "64  11 2018-01-07         1.97      82637.97  organic  2018\n",
            "\n",
            "[65 rows x 6 columns]\n"
          ],
          "name": "stdout"
        }
      ]
    },
    {
      "cell_type": "code",
      "metadata": {
        "colab": {
          "base_uri": "https://localhost:8080/",
          "height": 284
        },
        "id": "U2oBs0fyGxpV",
        "outputId": "4ed43110-89f5-4a80-d0cc-98ade1b2b4a4"
      },
      "source": [
        "planilha.describe()"
      ],
      "execution_count": null,
      "outputs": [
        {
          "output_type": "execute_result",
          "data": {
            "text/html": [
              "<div>\n",
              "<style scoped>\n",
              "    .dataframe tbody tr th:only-of-type {\n",
              "        vertical-align: middle;\n",
              "    }\n",
              "\n",
              "    .dataframe tbody tr th {\n",
              "        vertical-align: top;\n",
              "    }\n",
              "\n",
              "    .dataframe thead th {\n",
              "        text-align: right;\n",
              "    }\n",
              "</style>\n",
              "<table border=\"1\" class=\"dataframe\">\n",
              "  <thead>\n",
              "    <tr style=\"text-align: right;\">\n",
              "      <th></th>\n",
              "      <th>id</th>\n",
              "      <th>preco_medio</th>\n",
              "      <th>volume_total</th>\n",
              "      <th>ano</th>\n",
              "    </tr>\n",
              "  </thead>\n",
              "  <tbody>\n",
              "    <tr>\n",
              "      <th>count</th>\n",
              "      <td>65.000000</td>\n",
              "      <td>65.000000</td>\n",
              "      <td>65.000000</td>\n",
              "      <td>65.000000</td>\n",
              "    </tr>\n",
              "    <tr>\n",
              "      <th>mean</th>\n",
              "      <td>22.215385</td>\n",
              "      <td>2.000154</td>\n",
              "      <td>96707.269538</td>\n",
              "      <td>2017.184615</td>\n",
              "    </tr>\n",
              "    <tr>\n",
              "      <th>std</th>\n",
              "      <td>16.132743</td>\n",
              "      <td>0.226498</td>\n",
              "      <td>71485.991993</td>\n",
              "      <td>0.391005</td>\n",
              "    </tr>\n",
              "    <tr>\n",
              "      <th>min</th>\n",
              "      <td>0.000000</td>\n",
              "      <td>1.360000</td>\n",
              "      <td>39260.550000</td>\n",
              "      <td>2017.000000</td>\n",
              "    </tr>\n",
              "    <tr>\n",
              "      <th>25%</th>\n",
              "      <td>8.000000</td>\n",
              "      <td>1.850000</td>\n",
              "      <td>69777.300000</td>\n",
              "      <td>2017.000000</td>\n",
              "    </tr>\n",
              "    <tr>\n",
              "      <th>50%</th>\n",
              "      <td>20.000000</td>\n",
              "      <td>2.030000</td>\n",
              "      <td>75462.110000</td>\n",
              "      <td>2017.000000</td>\n",
              "    </tr>\n",
              "    <tr>\n",
              "      <th>75%</th>\n",
              "      <td>36.000000</td>\n",
              "      <td>2.090000</td>\n",
              "      <td>95299.690000</td>\n",
              "      <td>2017.000000</td>\n",
              "    </tr>\n",
              "    <tr>\n",
              "      <th>max</th>\n",
              "      <td>52.000000</td>\n",
              "      <td>2.480000</td>\n",
              "      <td>495083.690000</td>\n",
              "      <td>2018.000000</td>\n",
              "    </tr>\n",
              "  </tbody>\n",
              "</table>\n",
              "</div>"
            ],
            "text/plain": [
              "              id  preco_medio   volume_total          ano\n",
              "count  65.000000    65.000000      65.000000    65.000000\n",
              "mean   22.215385     2.000154   96707.269538  2017.184615\n",
              "std    16.132743     0.226498   71485.991993     0.391005\n",
              "min     0.000000     1.360000   39260.550000  2017.000000\n",
              "25%     8.000000     1.850000   69777.300000  2017.000000\n",
              "50%    20.000000     2.030000   75462.110000  2017.000000\n",
              "75%    36.000000     2.090000   95299.690000  2017.000000\n",
              "max    52.000000     2.480000  495083.690000  2018.000000"
            ]
          },
          "metadata": {
            "tags": []
          },
          "execution_count": 7
        }
      ]
    },
    {
      "cell_type": "code",
      "metadata": {
        "colab": {
          "base_uri": "https://localhost:8080/",
          "height": 294
        },
        "id": "cmUhqxPIHAe7",
        "outputId": "898256ff-8dd8-4b54-a46e-1af06a8eba70"
      },
      "source": [
        "planilha.plot(\"data\", \"preco_medio\")"
      ],
      "execution_count": null,
      "outputs": [
        {
          "output_type": "execute_result",
          "data": {
            "text/plain": [
              "<matplotlib.axes._subplots.AxesSubplot at 0x7f2203935390>"
            ]
          },
          "metadata": {
            "tags": []
          },
          "execution_count": 17
        },
        {
          "output_type": "display_data",
          "data": {
            "image/png": "[encoded data removed]",
            "text/plain": [
              "<Figure size 432x288 with 1 Axes>"
            ]
          },
          "metadata": {
            "tags": [],
            "needs_background": "light"
          }
        }
      ]
    }
  ]
}